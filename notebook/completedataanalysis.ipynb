{
 "cells": [
  {
   "cell_type": "markdown",
   "metadata": {},
   "source": [
    "# loading the data set using pandas"
   ]
  },
  {
   "cell_type": "code",
   "execution_count": 1,
   "metadata": {},
   "outputs": [],
   "source": [
    "import os , sys\n",
    "sys.path.append(os.path.abspath('../script'))"
   ]
  },
  {
   "cell_type": "code",
   "execution_count": 2,
   "metadata": {},
   "outputs": [],
   "source": [
    "import pandas as pd\n",
    "df = pd.read_csv(\"../data/amz_ca_total_products_data_processed.csv\")"
   ]
  },
  {
   "cell_type": "code",
   "execution_count": 3,
   "metadata": {},
   "outputs": [],
   "source": [
    "def display_basic_info(df):\n",
    "    print(f\"The dataframe has {df.shape[0]} rows and {df.shape[1]} columns.\")\n",
    "    print(df.info())\n",
    "    print(df.describe())"
   ]
  },
  {
   "cell_type": "markdown",
   "metadata": {},
   "source": [
    "## the head of the dataset"
   ]
  },
  {
   "cell_type": "code",
   "execution_count": 4,
   "metadata": {},
   "outputs": [
    {
     "data": {
      "text/html": [
       "<div>\n",
       "<style scoped>\n",
       "    .dataframe tbody tr th:only-of-type {\n",
       "        vertical-align: middle;\n",
       "    }\n",
       "\n",
       "    .dataframe tbody tr th {\n",
       "        vertical-align: top;\n",
       "    }\n",
       "\n",
       "    .dataframe thead th {\n",
       "        text-align: right;\n",
       "    }\n",
       "</style>\n",
       "<table border=\"1\" class=\"dataframe\">\n",
       "  <thead>\n",
       "    <tr style=\"text-align: right;\">\n",
       "      <th></th>\n",
       "      <th>asin</th>\n",
       "      <th>title</th>\n",
       "      <th>imgUrl</th>\n",
       "      <th>productURL</th>\n",
       "      <th>stars</th>\n",
       "      <th>reviews</th>\n",
       "      <th>price</th>\n",
       "      <th>listPrice</th>\n",
       "      <th>categoryName</th>\n",
       "      <th>isBestSeller</th>\n",
       "      <th>boughtInLastMonth</th>\n",
       "    </tr>\n",
       "  </thead>\n",
       "  <tbody>\n",
       "    <tr>\n",
       "      <th>0</th>\n",
       "      <td>B07CV4L6HX</td>\n",
       "      <td>Green Leaf WW3D Wonder Extension Cord Winder, ...</td>\n",
       "      <td>https://m.media-amazon.com/images/I/81cRe0AVC4...</td>\n",
       "      <td>https://www.amazon.ca/dp/B07CV4L6HX</td>\n",
       "      <td>4.4</td>\n",
       "      <td>2876</td>\n",
       "      <td>47.69</td>\n",
       "      <td>0.00</td>\n",
       "      <td>Industrial  Scientific</td>\n",
       "      <td>False</td>\n",
       "      <td>0</td>\n",
       "    </tr>\n",
       "    <tr>\n",
       "      <th>1</th>\n",
       "      <td>B09N1HGY74</td>\n",
       "      <td>8pcs Toilet Seat Bumpers Universal Toilet Repl...</td>\n",
       "      <td>https://m.media-amazon.com/images/I/512CpB-EP5...</td>\n",
       "      <td>https://www.amazon.ca/dp/B09N1HGY74</td>\n",
       "      <td>3.8</td>\n",
       "      <td>55</td>\n",
       "      <td>10.99</td>\n",
       "      <td>0.00</td>\n",
       "      <td>Industrial  Scientific</td>\n",
       "      <td>False</td>\n",
       "      <td>100</td>\n",
       "    </tr>\n",
       "    <tr>\n",
       "      <th>2</th>\n",
       "      <td>B087P7538J</td>\n",
       "      <td>YaeCCC 19 Pcs Hole Saw Kit 3/4''(19mm)- 6''(15...</td>\n",
       "      <td>https://m.media-amazon.com/images/I/71P+qLFDFc...</td>\n",
       "      <td>https://www.amazon.ca/dp/B087P7538J</td>\n",
       "      <td>4.0</td>\n",
       "      <td>126</td>\n",
       "      <td>25.99</td>\n",
       "      <td>27.99</td>\n",
       "      <td>Industrial  Scientific</td>\n",
       "      <td>False</td>\n",
       "      <td>50</td>\n",
       "    </tr>\n",
       "    <tr>\n",
       "      <th>3</th>\n",
       "      <td>B0822FF7YQ</td>\n",
       "      <td>LLPT Butyl Putty Tape White 1 Inch x 33Ft Tigh...</td>\n",
       "      <td>https://m.media-amazon.com/images/I/61wfWLZRn-...</td>\n",
       "      <td>https://www.amazon.ca/dp/B0822FF7YQ</td>\n",
       "      <td>4.5</td>\n",
       "      <td>1936</td>\n",
       "      <td>21.99</td>\n",
       "      <td>30.99</td>\n",
       "      <td>Industrial  Scientific</td>\n",
       "      <td>False</td>\n",
       "      <td>100</td>\n",
       "    </tr>\n",
       "    <tr>\n",
       "      <th>4</th>\n",
       "      <td>B08NTR8NN4</td>\n",
       "      <td>Lightbeam 16\" Long Stem Deep Fry Thermometer w...</td>\n",
       "      <td>https://m.media-amazon.com/images/I/61qJG-y1He...</td>\n",
       "      <td>https://www.amazon.ca/dp/B08NTR8NN4</td>\n",
       "      <td>4.2</td>\n",
       "      <td>46</td>\n",
       "      <td>18.99</td>\n",
       "      <td>0.00</td>\n",
       "      <td>Industrial  Scientific</td>\n",
       "      <td>False</td>\n",
       "      <td>100</td>\n",
       "    </tr>\n",
       "  </tbody>\n",
       "</table>\n",
       "</div>"
      ],
      "text/plain": [
       "         asin                                              title  \\\n",
       "0  B07CV4L6HX  Green Leaf WW3D Wonder Extension Cord Winder, ...   \n",
       "1  B09N1HGY74  8pcs Toilet Seat Bumpers Universal Toilet Repl...   \n",
       "2  B087P7538J  YaeCCC 19 Pcs Hole Saw Kit 3/4''(19mm)- 6''(15...   \n",
       "3  B0822FF7YQ  LLPT Butyl Putty Tape White 1 Inch x 33Ft Tigh...   \n",
       "4  B08NTR8NN4  Lightbeam 16\" Long Stem Deep Fry Thermometer w...   \n",
       "\n",
       "                                              imgUrl  \\\n",
       "0  https://m.media-amazon.com/images/I/81cRe0AVC4...   \n",
       "1  https://m.media-amazon.com/images/I/512CpB-EP5...   \n",
       "2  https://m.media-amazon.com/images/I/71P+qLFDFc...   \n",
       "3  https://m.media-amazon.com/images/I/61wfWLZRn-...   \n",
       "4  https://m.media-amazon.com/images/I/61qJG-y1He...   \n",
       "\n",
       "                            productURL  stars  reviews  price  listPrice  \\\n",
       "0  https://www.amazon.ca/dp/B07CV4L6HX    4.4     2876  47.69       0.00   \n",
       "1  https://www.amazon.ca/dp/B09N1HGY74    3.8       55  10.99       0.00   \n",
       "2  https://www.amazon.ca/dp/B087P7538J    4.0      126  25.99      27.99   \n",
       "3  https://www.amazon.ca/dp/B0822FF7YQ    4.5     1936  21.99      30.99   \n",
       "4  https://www.amazon.ca/dp/B08NTR8NN4    4.2       46  18.99       0.00   \n",
       "\n",
       "             categoryName  isBestSeller  boughtInLastMonth  \n",
       "0  Industrial  Scientific         False                  0  \n",
       "1  Industrial  Scientific         False                100  \n",
       "2  Industrial  Scientific         False                 50  \n",
       "3  Industrial  Scientific         False                100  \n",
       "4  Industrial  Scientific         False                100  "
      ]
     },
     "execution_count": 4,
     "metadata": {},
     "output_type": "execute_result"
    }
   ],
   "source": [
    "df.head()\n"
   ]
  },
  {
   "cell_type": "code",
   "execution_count": 5,
   "metadata": {},
   "outputs": [
    {
     "data": {
      "text/plain": [
       "asin                  object\n",
       "title                 object\n",
       "imgUrl                object\n",
       "productURL            object\n",
       "stars                float64\n",
       "reviews                int64\n",
       "price                float64\n",
       "listPrice            float64\n",
       "categoryName          object\n",
       "isBestSeller            bool\n",
       "boughtInLastMonth      int64\n",
       "dtype: object"
      ]
     },
     "execution_count": 5,
     "metadata": {},
     "output_type": "execute_result"
    }
   ],
   "source": [
    "df.dtypes\n"
   ]
  },
  {
   "cell_type": "markdown",
   "metadata": {},
   "source": [
    "# covert the data type of price from integer into float\n"
   ]
  },
  {
   "cell_type": "code",
   "execution_count": 6,
   "metadata": {},
   "outputs": [],
   "source": [
    "import pandas as pd\n",
    "df[\"price\"] = pd.to_numeric(df[\"price\"], errors=\"coerce\")"
   ]
  },
  {
   "cell_type": "markdown",
   "metadata": {},
   "source": [
    "# Standardize column names\n"
   ]
  },
  {
   "cell_type": "code",
   "execution_count": 7,
   "metadata": {},
   "outputs": [],
   "source": [
    "df.columns = df.columns.str.lower().str.replace(\" \", \"_\")\n"
   ]
  },
  {
   "cell_type": "markdown",
   "metadata": {},
   "source": [
    "# Basic Info\n"
   ]
  },
  {
   "cell_type": "code",
   "execution_count": 8,
   "metadata": {},
   "outputs": [
    {
     "name": "stdout",
     "output_type": "stream",
     "text": [
      "The dataframe has 2165926 rows and 11 columns.\n",
      "<class 'pandas.core.frame.DataFrame'>\n",
      "RangeIndex: 2165926 entries, 0 to 2165925\n",
      "Data columns (total 11 columns):\n",
      " #   Column             Dtype  \n",
      "---  ------             -----  \n",
      " 0   asin               object \n",
      " 1   title              object \n",
      " 2   imgurl             object \n",
      " 3   producturl         object \n",
      " 4   stars              float64\n",
      " 5   reviews            int64  \n",
      " 6   price              float64\n",
      " 7   listprice          float64\n",
      " 8   categoryname       object \n",
      " 9   isbestseller       bool   \n",
      " 10  boughtinlastmonth  int64  \n",
      "dtypes: bool(1), float64(3), int64(2), object(5)\n",
      "memory usage: 167.3+ MB\n",
      "None\n",
      "              stars       reviews         price     listprice  \\\n",
      "count  2.165926e+06  2.165926e+06  2.165926e+06  2.165926e+06   \n",
      "mean   2.623661e+00  5.457391e+02  1.112207e+02  4.651383e+00   \n",
      "std    2.149905e+00  4.355225e+03  4.976653e+02  2.984392e+01   \n",
      "min    0.000000e+00  0.000000e+00  0.000000e+00  0.000000e+00   \n",
      "25%    0.000000e+00  0.000000e+00  1.542000e+01  0.000000e+00   \n",
      "50%    4.000000e+00  5.000000e+00  2.742000e+01  0.000000e+00   \n",
      "75%    4.500000e+00  1.230000e+02  5.750000e+01  0.000000e+00   \n",
      "max    5.000000e+00  8.688650e+05  4.090000e+04  9.999900e+02   \n",
      "\n",
      "       boughtinlastmonth  \n",
      "count       2.165926e+06  \n",
      "mean        9.004624e+00  \n",
      "std         9.838265e+01  \n",
      "min         0.000000e+00  \n",
      "25%         0.000000e+00  \n",
      "50%         0.000000e+00  \n",
      "75%         0.000000e+00  \n",
      "max         2.000000e+04  \n"
     ]
    }
   ],
   "source": [
    "display_basic_info(df)\n"
   ]
  },
  {
   "cell_type": "markdown",
   "metadata": {},
   "source": [
    "# The Exploratory Data Analysis\n",
    "\n"
   ]
  },
  {
   "cell_type": "code",
   "execution_count": 11,
   "metadata": {},
   "outputs": [],
   "source": [
    "import pandas as pd\n",
    "import matplotlib.pyplot as plt\n",
    "# import seaborn as sns\n",
    "def basic_data_cleaning(df):\n",
    "    print(\"handle missing values:\")\n",
    "    df.ffill(inplace=True)\n",
    "    print(\"missing values handeled successfully\")\n",
    "    print(\"remove duplicates:\")\n",
    "    df.drop_duplicates(inplace=True)\n",
    "    print(\"duplicates removed successfully\")\n",
    "def distribution_of_price(df):\n",
    "    plt.figure(figsize=(10, 5))\n",
    "    sns.histplot(df[\"price\"], bins=50, kde=True, color=\"blue\")\n",
    "    plt.title(\"Distribution of Product Prices\")\n",
    "    plt.xlabel(\"Price\")\n",
    "    plt.ylabel(\"Frequency\")\n",
    "    plt.show()\n",
    "def price_vs_rating(df):\n",
    "    plt.figure(figsize=(10, 6))\n",
    "    sns.scatterplot(data=df, x=\"price\", y=\"reviews\", alpha=0.5)\n",
    "    plt.title(\"Price vs. Rating\")\n",
    "    plt.xlabel(\"Price\")\n",
    "    plt.ylabel(\"Rating\")\n",
    "    plt.show()\n",
    "def expensive_catagory_name(df):\n",
    "    plt.figure(figsize=(12, 6))\n",
    "    top_categories = df.groupby(\"categoryName\")[\"price\"].sum().nlargest(10)\n",
    "    top_categories.plot(kind=\"bar\", color=\"green\")\n",
    "    plt.title(\"Top 10 Product Categories by price\")\n",
    "    plt.xlabel(\"Category\")\n",
    "    plt.ylabel(\"Total price\")\n",
    "    plt.xticks(rotation=45)\n",
    "    plt.show()"
   ]
  },
  {
   "cell_type": "markdown",
   "metadata": {},
   "source": [
    "# Data Transformation"
   ]
  },
  {
   "cell_type": "code",
   "execution_count": 12,
   "metadata": {},
   "outputs": [
    {
     "name": "stdout",
     "output_type": "stream",
     "text": [
      "handle missing values:\n",
      "missing values handeled successfully\n",
      "remove duplicates:\n",
      "duplicates removed successfully\n"
     ]
    }
   ],
   "source": [
    "basic_data_cleaning(df)\n"
   ]
  },
  {
   "cell_type": "markdown",
   "metadata": {},
   "source": [
    "# Bivarite and Univarite Analysis\n"
   ]
  },
  {
   "cell_type": "code",
   "execution_count": null,
   "metadata": {},
   "outputs": [],
   "source": []
  }
 ],
 "metadata": {
  "kernelspec": {
   "display_name": "Python 3",
   "language": "python",
   "name": "python3"
  },
  "language_info": {
   "codemirror_mode": {
    "name": "ipython",
    "version": 3
   },
   "file_extension": ".py",
   "mimetype": "text/x-python",
   "name": "python",
   "nbconvert_exporter": "python",
   "pygments_lexer": "ipython3",
   "version": "3.12.4"
  }
 },
 "nbformat": 4,
 "nbformat_minor": 2
}
